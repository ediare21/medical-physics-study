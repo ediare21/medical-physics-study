{
 "cells": [
  {
   "cell_type": "code",
   "execution_count": 1,
   "id": "012533f7-b722-4fd0-83fc-0cb20a65dbdb",
   "metadata": {},
   "outputs": [
    {
     "name": "stdout",
     "output_type": "stream",
     "text": [
      "Collecting pydicom\n",
      "  Using cached pydicom-3.0.1-py3-none-any.whl.metadata (9.4 kB)\n",
      "Using cached pydicom-3.0.1-py3-none-any.whl (2.4 MB)\n",
      "Installing collected packages: pydicom\n",
      "Successfully installed pydicom-3.0.1\n",
      "Note: you may need to restart the kernel to use updated packages.\n"
     ]
    }
   ],
   "source": [
    "pip install pydicom"
   ]
  },
  {
   "cell_type": "code",
   "execution_count": 1,
   "id": "78e1ebdc-baac-4188-8c7b-46d2a68e6152",
   "metadata": {},
   "outputs": [
    {
     "name": "stdout",
     "output_type": "stream",
     "text": [
      "Collecting SimpleITK\n",
      "  Using cached simpleitk-2.5.2-cp311-abi3-win_amd64.whl.metadata (7.3 kB)\n",
      "Using cached simpleitk-2.5.2-cp311-abi3-win_amd64.whl (18.8 MB)\n",
      "Installing collected packages: SimpleITK\n",
      "Successfully installed SimpleITK-2.5.2\n",
      "Note: you may need to restart the kernel to use updated packages.\n"
     ]
    }
   ],
   "source": [
    "pip install SimpleITK"
   ]
  },
  {
   "cell_type": "code",
   "execution_count": null,
   "id": "952b043c-7fb6-4d19-b7d5-0ac6634312da",
   "metadata": {},
   "outputs": [],
   "source": []
  }
 ],
 "metadata": {
  "kernelspec": {
   "display_name": "Python 3 (ipykernel)",
   "language": "python",
   "name": "python3"
  },
  "language_info": {
   "codemirror_mode": {
    "name": "ipython",
    "version": 3
   },
   "file_extension": ".py",
   "mimetype": "text/x-python",
   "name": "python",
   "nbconvert_exporter": "python",
   "pygments_lexer": "ipython3",
   "version": "3.13.5"
  }
 },
 "nbformat": 4,
 "nbformat_minor": 5
}
