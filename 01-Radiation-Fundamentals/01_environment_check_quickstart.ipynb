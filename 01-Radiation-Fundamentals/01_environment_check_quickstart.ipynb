{
 "cells": [
  {
   "cell_type": "markdown",
   "id": "11908190",
   "metadata": {},
   "source": [
    "# ✅ Environment Check & Imaging Toolkit Quickstart\n",
    "\n",
    "Use this notebook to verify your Python setup and key libraries for medical imaging work.\n",
    "\n",
    "## What this notebook does\n",
    "- Checks Python version\n",
    "- Imports scientific stack: `numpy`, `pandas`, `matplotlib`\n",
    "- Imports imaging stack: `pydicom`, `SimpleITK`\n",
    "- (Optional) Loads a DICOM file if you provide a path\n"
   ]
  },
  {
   "cell_type": "code",
   "execution_count": 4,
   "id": "44e3ce6b",
   "metadata": {},
   "outputs": [
    {
     "name": "stdout",
     "output_type": "stream",
     "text": [
      "3.13.5 | packaged by Anaconda, Inc. | (main, Jun 12 2025, 16:37:03) [MSC v.1929 64 bit (AMD64)]\n",
      "✔ Imported numpy — version: 2.2.5\n",
      "✔ Imported pandas — version: 2.3.1\n",
      "✔ Imported matplotlib — version: 3.10.0\n",
      "✖ Failed to import pydicom: No module named 'pydicom'\n",
      "✖ Failed to import SimpleITK: No module named 'SimpleITK'\n"
     ]
    }
   ],
   "source": [
    "import sys, subprocess, importlib\n",
    "print(sys.version)\n",
    "pkgs = ['numpy','pandas','matplotlib','pydicom','SimpleITK']\n",
    "for p in pkgs:\n",
    "    try:\n",
    "        m = importlib.import_module(p)\n",
    "        print(f'✔ Imported {p} — version:', getattr(m,'__version__','(no __version__)'))\n",
    "    except Exception as e:\n",
    "        print(f'✖ Failed to import {p}: {e}')\n"
   ]
  },
  {
   "cell_type": "code",
   "execution_count": null,
   "id": "957f1e64-4434-4a58-905e-027e4f790186",
   "metadata": {},
   "outputs": [],
   "source": []
  },
  {
   "cell_type": "markdown",
   "id": "ca8ca831",
   "metadata": {},
   "source": [
    "## Optional: Test-load a DICOM file\n",
    "Update `dicom_path` to point to any `.dcm` file you have (e.g., from TCIA). Skip if you don't have one yet.\n"
   ]
  },
  {
   "cell_type": "code",
   "execution_count": 3,
   "id": "44dc0503",
   "metadata": {},
   "outputs": [
    {
     "name": "stdout",
     "output_type": "stream",
     "text": [
      "No DICOM file found at path\\to\\your\\file.dcm\n"
     ]
    }
   ],
   "source": [
    "from pathlib import Path\n",
    "dicom_path = Path('path/to/your/file.dcm')  # <- change this\n",
    "if dicom_path.exists():\n",
    "    import pydicom\n",
    "    ds = pydicom.dcmread(str(dicom_path))\n",
    "    print('PatientID:', ds.get('PatientID',''))\n",
    "    print('Modality:', ds.get('Modality',''))\n",
    "    print('StudyDate:', ds.get('StudyDate',''))\n",
    "else:\n",
    "    print('No DICOM file found at', dicom_path)\n"
   ]
  },
  {
   "cell_type": "code",
   "execution_count": null,
   "id": "b8ccd3d8-024e-465d-9148-4e0d4d3fb845",
   "metadata": {},
   "outputs": [],
   "source": []
  }
 ],
 "metadata": {
  "kernelspec": {
   "display_name": "Python 3 (ipykernel)",
   "language": "python",
   "name": "python3"
  },
  "language_info": {
   "codemirror_mode": {
    "name": "ipython",
    "version": 3
   },
   "file_extension": ".py",
   "mimetype": "text/x-python",
   "name": "python",
   "nbconvert_exporter": "python",
   "pygments_lexer": "ipython3",
   "version": "3.13.5"
  }
 },
 "nbformat": 4,
 "nbformat_minor": 5
}
