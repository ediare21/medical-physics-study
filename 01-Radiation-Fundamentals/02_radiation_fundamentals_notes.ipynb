{
 "cells": [
  {
   "cell_type": "markdown",
   "id": "ecd65e46",
   "metadata": {},
   "source": [
    "# 📘 Radiation Fundamentals — Notes & Prompts\n",
    "\n",
    "Use this as your Saturday **theory** notebook.\n",
    "\n",
    "## Reading prompts\n",
    "- Define **absorbed dose**, **kerma**, **exposure**, **air kerma rate**.\n",
    "- Summarize the **photoelectric**, **Compton**, and **pair production** interactions.\n",
    "- Write the attenuation law and define all symbols.\n",
    "- Explain **HVL** and **TVL** and when each is used.\n",
    "\n",
    "## Key equations\n",
    "- $I = I_0\\,e^{-\\mu x}$\n",
    "- $\\text{HVL} = \\dfrac{\\ln 2}{\\mu}$\n",
    "- $\\text{DLP} = \\text{CTDI}_{vol} \\times \\text{length}$ (for CT)\n"
   ]
  },
  {
   "cell_type": "markdown",
   "id": "d16d41c8",
   "metadata": {},
   "source": [
    "## My notes (bullets)\n",
    "- \n",
    "- \n",
    "- \n"
   ]
  },
  {
   "cell_type": "markdown",
   "id": "d396b61d",
   "metadata": {},
   "source": [
    "## Teach-back (3 bullets)\n",
    "1. \n",
    "2. \n",
    "3. \n"
   ]
  },
  {
   "cell_type": "markdown",
   "id": "2569f4a9",
   "metadata": {},
   "source": [
    "## Questions for next week\n",
    "- \n",
    "- \n"
   ]
  }
 ],
 "metadata": {
  "kernelspec": {
   "display_name": "Python 3 (ipykernel)",
   "language": "python",
   "name": "python3"
  },
  "language_info": {
   "codemirror_mode": {
    "name": "ipython",
    "version": 3
   },
   "file_extension": ".py",
   "mimetype": "text/x-python",
   "name": "python",
   "nbconvert_exporter": "python",
   "pygments_lexer": "ipython3",
   "version": "3.13.5"
  }
 },
 "nbformat": 4,
 "nbformat_minor": 5
}
